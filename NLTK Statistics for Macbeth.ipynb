{
 "cells": [
  {
   "cell_type": "markdown",
   "metadata": {},
   "source": [
    "## Corpus Statistics"
   ]
  },
  {
   "cell_type": "code",
   "execution_count": 19,
   "metadata": {},
   "outputs": [],
   "source": [
    "import nltk\n",
    "from nltk.corpus import gutenberg, stopwords\n",
    "from nltk.collocations import * \n",
    "from nltk import FreqDist, word_tokenize\n",
    "import string\n",
    "import re\n",
    "from collections import Counter"
   ]
  },
  {
   "cell_type": "markdown",
   "metadata": {},
   "source": [
    "There are many, many corpora available inside of nltk's `corpus` module. We'll make use of the texts contained with `corpus.gutenberg`-- 18 different (complete) corpora that can be found on the [Project Gutenberg](https://www.gutenberg.org/) website. "
   ]
  },
  {
   "cell_type": "code",
   "execution_count": 4,
   "metadata": {
    "scrolled": true
   },
   "outputs": [
    {
     "data": {
      "text/plain": [
       "['austen-emma.txt',\n",
       " 'austen-persuasion.txt',\n",
       " 'austen-sense.txt',\n",
       " 'bible-kjv.txt',\n",
       " 'blake-poems.txt',\n",
       " 'bryant-stories.txt',\n",
       " 'burgess-busterbrown.txt',\n",
       " 'carroll-alice.txt',\n",
       " 'chesterton-ball.txt',\n",
       " 'chesterton-brown.txt',\n",
       " 'chesterton-thursday.txt',\n",
       " 'edgeworth-parents.txt',\n",
       " 'melville-moby_dick.txt',\n",
       " 'milton-paradise.txt',\n",
       " 'shakespeare-caesar.txt',\n",
       " 'shakespeare-hamlet.txt',\n",
       " 'shakespeare-macbeth.txt',\n",
       " 'whitman-leaves.txt']"
      ]
     },
     "execution_count": 4,
     "metadata": {},
     "output_type": "execute_result"
    }
   ],
   "source": [
    "#looking at all corpus files in gutenberg \n",
    "file_ids = gutenberg.fileids()\n",
    "file_ids"
   ]
  },
  {
   "cell_type": "code",
   "execution_count": 5,
   "metadata": {},
   "outputs": [
    {
     "name": "stdout",
     "output_type": "stream",
     "text": [
      "[The Tragedie of Macbeth by William Shakespeare 1603]\n",
      "\n",
      "\n",
      "Actus Primus. Scoena Prima.\n",
      "\n",
      "Thunder and Lightning. Enter three Witches.\n",
      "\n",
      "  1. When shall we three meet againe?\n",
      "In Thunder, Lightning, or in Raine?\n",
      "  2. When the Hurley-burley's done,\n",
      "When the Battaile's lost, and wonne\n",
      "\n",
      "   3. That will be ere the set of Sunne\n",
      "\n",
      "   1. Where the place?\n",
      "  2. Vpon the Heath\n",
      "\n",
      "   3. There to meet with Macbeth\n",
      "\n",
      "   1. I come, Gray-Malkin\n",
      "\n",
      "   All. Padock calls anon: faire is foule, and foule is faire,\n",
      "Houer through the fogge and filthie ayre.\n",
      "\n",
      "Exeunt.\n",
      "\n",
      "\n",
      "Scena Secunda.\n",
      "\n",
      "Alarum within. Enter King Malcome, Donalbaine, Lenox, with\n",
      "attendants,\n",
      "meeting a bleeding Captaine.\n",
      "\n",
      "  King. What bloody man is that? he can report,\n",
      "As seemeth by his plight, of the Reuolt\n",
      "The newest state\n",
      "\n",
      "   Mal. This is the Serieant,\n",
      "Who like a good and hardie Souldier fought\n",
      "'Gainst my Captiuitie: Haile braue friend;\n",
      "Say to the King, the knowledge of the Broyle,\n",
      "As thou didst leaue it\n",
      "\n",
      "   Cap. Doubtfull it stood,\n",
      "As two spent Swimmers, t\n"
     ]
    }
   ],
   "source": [
    "#loading Macbeth corpus\n",
    "macbeth_text = gutenberg.raw(file_ids[-2])\n",
    "print(macbeth_text[:1000])"
   ]
  },
  {
   "cell_type": "markdown",
   "metadata": {},
   "source": [
    "## Preprocessing the Data"
   ]
  },
  {
   "cell_type": "code",
   "execution_count": 26,
   "metadata": {},
   "outputs": [],
   "source": [
    "#creating a regex pattern to remove unnecessary words\n",
    "pattern = \"([a-zA-Z]+(?:'[a-z]+)?)\"\n",
    "#tokenize the corpus\n",
    "macbeth_tokens_raw = nltk.regexp_tokenize(macbeth_text, pattern)"
   ]
  },
  {
   "cell_type": "code",
   "execution_count": 27,
   "metadata": {},
   "outputs": [],
   "source": [
    "#converting all words to lowercase\n",
    "macbeth_tokens = [word.lower() for word in macbeth_tokens_raw]"
   ]
  },
  {
   "cell_type": "markdown",
   "metadata": {},
   "source": [
    "## Frequency Distributions"
   ]
  },
  {
   "cell_type": "code",
   "execution_count": 29,
   "metadata": {},
   "outputs": [
    {
     "data": {
      "text/plain": [
       "[('the', 649),\n",
       " ('and', 545),\n",
       " ('to', 383),\n",
       " ('of', 338),\n",
       " ('i', 331),\n",
       " ('a', 241),\n",
       " ('that', 227),\n",
       " ('my', 203),\n",
       " ('you', 203),\n",
       " ('in', 199),\n",
       " ('is', 180),\n",
       " ('not', 165),\n",
       " ('it', 161),\n",
       " ('with', 153),\n",
       " ('his', 146),\n",
       " ('be', 137),\n",
       " ('macb', 137),\n",
       " ('your', 126),\n",
       " ('our', 123),\n",
       " ('haue', 122),\n",
       " ('but', 120),\n",
       " ('me', 113),\n",
       " ('he', 110),\n",
       " ('for', 109),\n",
       " ('what', 106),\n",
       " ('this', 104),\n",
       " ('all', 99),\n",
       " ('so', 96),\n",
       " ('him', 90),\n",
       " ('as', 89),\n",
       " ('thou', 87),\n",
       " ('we', 83),\n",
       " ('enter', 81),\n",
       " ('which', 80),\n",
       " ('are', 73),\n",
       " ('will', 72),\n",
       " ('they', 70),\n",
       " ('shall', 68),\n",
       " ('no', 67),\n",
       " ('then', 63),\n",
       " ('macbeth', 62),\n",
       " ('their', 62),\n",
       " ('thee', 61),\n",
       " ('vpon', 58),\n",
       " ('on', 58),\n",
       " ('macd', 58),\n",
       " ('from', 57),\n",
       " ('yet', 57),\n",
       " ('thy', 56),\n",
       " ('vs', 55)]"
      ]
     },
     "execution_count": 29,
     "metadata": {},
     "output_type": "execute_result"
    }
   ],
   "source": [
    "#display word frequency (top 50)\n",
    "macbeth_freqdist = FreqDist(macbeth_tokens)\n",
    "macbeth_freqdist.most_common(50)"
   ]
  },
  {
   "cell_type": "markdown",
   "metadata": {},
   "source": [
    "## Removing Stop Words and Punctuation"
   ]
  },
  {
   "cell_type": "code",
   "execution_count": 24,
   "metadata": {},
   "outputs": [],
   "source": [
    "#create stopwords list\n",
    "stopwords_list = stopwords.words('english')\n",
    "stopwords_list += list(string.punctuation)\n",
    "stopwords_list += ['0', '1', '2', '3', '4', '5', '6', '7', '8', '9']\n",
    "#removing stopwords from current tokenized list\n",
    "macbeth_words_stopped = [word for word in macbeth_tokens if word not in stopwords_list]"
   ]
  },
  {
   "cell_type": "code",
   "execution_count": 30,
   "metadata": {
    "scrolled": true
   },
   "outputs": [
    {
     "data": {
      "text/plain": [
       "[('macb', 137),\n",
       " ('haue', 122),\n",
       " ('thou', 87),\n",
       " ('enter', 81),\n",
       " ('shall', 68),\n",
       " ('macbeth', 62),\n",
       " ('thee', 61),\n",
       " ('vpon', 58),\n",
       " ('macd', 58),\n",
       " ('yet', 57),\n",
       " ('thy', 56),\n",
       " ('vs', 55),\n",
       " ('come', 54),\n",
       " ('king', 54),\n",
       " ('hath', 52),\n",
       " ('good', 49),\n",
       " ('rosse', 49),\n",
       " ('lady', 48),\n",
       " ('would', 47),\n",
       " ('time', 46),\n",
       " ('like', 43),\n",
       " ('say', 39),\n",
       " ('doe', 38),\n",
       " ('lord', 38),\n",
       " ('make', 38),\n",
       " ('tis', 37),\n",
       " ('must', 36),\n",
       " ('done', 35),\n",
       " ('selfe', 35),\n",
       " ('ile', 35),\n",
       " ('feare', 35),\n",
       " ('let', 35),\n",
       " ('man', 34),\n",
       " ('wife', 34),\n",
       " ('night', 34),\n",
       " ('banquo', 34),\n",
       " ('well', 33),\n",
       " ('know', 33),\n",
       " ('one', 32),\n",
       " ('great', 31),\n",
       " ('see', 31),\n",
       " ('may', 31),\n",
       " ('exeunt', 30),\n",
       " ('speake', 29),\n",
       " ('sir', 29),\n",
       " ('lenox', 28),\n",
       " ('mine', 26),\n",
       " ('vp', 26),\n",
       " ('th', 26),\n",
       " ('mal', 25)]"
      ]
     },
     "execution_count": 30,
     "metadata": {},
     "output_type": "execute_result"
    }
   ],
   "source": [
    "#display most frequent words (top 50)\n",
    "macbeth_stopped_freqdist = FreqDist(macbeth_words_stopped)\n",
    "macbeth_stopped_freqdist.most_common(50)"
   ]
  },
  {
   "cell_type": "code",
   "execution_count": 31,
   "metadata": {},
   "outputs": [
    {
     "data": {
      "text/plain": [
       "3441"
      ]
     },
     "execution_count": 31,
     "metadata": {},
     "output_type": "execute_result"
    }
   ],
   "source": [
    "#total number of words\n",
    "len(macbeth_stopped_freqdist)"
   ]
  },
  {
   "cell_type": "markdown",
   "metadata": {},
   "source": [
    "## Normalized Word Frequency"
   ]
  },
  {
   "cell_type": "code",
   "execution_count": 32,
   "metadata": {},
   "outputs": [
    {
     "name": "stdout",
     "output_type": "stream",
     "text": [
      "Word\t\t\tNormalized Frequency\n",
      "macb \t\t\t 0.01354\n",
      "haue \t\t\t 0.01206\n",
      "thou \t\t\t 0.008601\n",
      "enter \t\t\t 0.008008\n",
      "shall \t\t\t 0.006723\n",
      "macbeth \t\t\t 0.00613\n",
      "thee \t\t\t 0.006031\n",
      "vpon \t\t\t 0.005734\n",
      "macd \t\t\t 0.005734\n",
      "yet \t\t\t 0.005635\n",
      "thy \t\t\t 0.005536\n",
      "vs \t\t\t 0.005437\n",
      "come \t\t\t 0.005339\n",
      "king \t\t\t 0.005339\n",
      "hath \t\t\t 0.005141\n",
      "good \t\t\t 0.004844\n",
      "rosse \t\t\t 0.004844\n",
      "lady \t\t\t 0.004745\n",
      "would \t\t\t 0.004647\n",
      "time \t\t\t 0.004548\n",
      "like \t\t\t 0.004251\n",
      "say \t\t\t 0.003856\n",
      "doe \t\t\t 0.003757\n",
      "lord \t\t\t 0.003757\n",
      "make \t\t\t 0.003757\n",
      "tis \t\t\t 0.003658\n",
      "must \t\t\t 0.003559\n",
      "done \t\t\t 0.00346\n",
      "selfe \t\t\t 0.00346\n",
      "ile \t\t\t 0.00346\n",
      "feare \t\t\t 0.00346\n",
      "let \t\t\t 0.00346\n",
      "man \t\t\t 0.003361\n",
      "wife \t\t\t 0.003361\n",
      "night \t\t\t 0.003361\n",
      "banquo \t\t\t 0.003361\n",
      "well \t\t\t 0.003262\n",
      "know \t\t\t 0.003262\n",
      "one \t\t\t 0.003164\n",
      "great \t\t\t 0.003065\n",
      "see \t\t\t 0.003065\n",
      "may \t\t\t 0.003065\n",
      "exeunt \t\t\t 0.002966\n",
      "speake \t\t\t 0.002867\n",
      "sir \t\t\t 0.002867\n",
      "lenox \t\t\t 0.002768\n",
      "mine \t\t\t 0.00257\n",
      "vp \t\t\t 0.00257\n",
      "th \t\t\t 0.00257\n",
      "mal \t\t\t 0.002472\n"
     ]
    }
   ],
   "source": [
    "total_word_count = sum(macbeth_stopped_freqdist.values())\n",
    "macbeth_top_50 = macbeth_stopped_freqdist.most_common(50)\n",
    "print(\"Word\\t\\t\\tNormalized Frequency\")\n",
    "for word in macbeth_top_50:\n",
    "    normalized_frequency = word[1] / total_word_count\n",
    "    print(\"{} \\t\\t\\t {:.4}\".format(word[0], normalized_frequency))"
   ]
  },
  {
   "cell_type": "markdown",
   "metadata": {},
   "source": [
    "## Creating Bigrams"
   ]
  },
  {
   "cell_type": "code",
   "execution_count": 33,
   "metadata": {},
   "outputs": [],
   "source": [
    "bigram_measures = nltk.collocations.BigramAssocMeasures()"
   ]
  },
  {
   "cell_type": "code",
   "execution_count": 35,
   "metadata": {},
   "outputs": [],
   "source": [
    "macbeth_finder = BigramCollocationFinder.from_words(macbeth_words_stopped)"
   ]
  },
  {
   "cell_type": "code",
   "execution_count": 36,
   "metadata": {
    "scrolled": false
   },
   "outputs": [],
   "source": [
    "macbeth_scored = macbeth_finder.score_ngrams(bigram_measures.raw_freq)"
   ]
  },
  {
   "cell_type": "code",
   "execution_count": 37,
   "metadata": {},
   "outputs": [
    {
     "data": {
      "text/plain": [
       "[(('enter', 'macbeth'), 0.0015818091942659417),\n",
       " (('exeunt', 'scena'), 0.0014829461196243204),\n",
       " (('thane', 'cawdor'), 0.0012852199703410777),\n",
       " (('knock', 'knock'), 0.0009886307464162135),\n",
       " (('lord', 'macb'), 0.0008897676717745922),\n",
       " (('thou', 'art'), 0.0008897676717745922),\n",
       " (('good', 'lord'), 0.0007909045971329708),\n",
       " (('haue', 'done'), 0.0007909045971329708),\n",
       " (('macb', 'haue'), 0.0007909045971329708),\n",
       " (('enter', 'lady'), 0.0006920415224913495),\n",
       " (('let', 'vs'), 0.0006920415224913495),\n",
       " (('macbeth', 'macb'), 0.0005931784478497281),\n",
       " (('enter', 'malcolme'), 0.0004943153732081067),\n",
       " (('enter', 'three'), 0.0004943153732081067),\n",
       " (('euery', 'one'), 0.0004943153732081067),\n",
       " (('macb', 'ile'), 0.0004943153732081067),\n",
       " (('macb', 'thou'), 0.0004943153732081067),\n",
       " (('make', 'vs'), 0.0004943153732081067),\n",
       " (('mine', 'eyes'), 0.0004943153732081067),\n",
       " (('mine', 'owne'), 0.0004943153732081067),\n",
       " (('scena', 'secunda'), 0.0004943153732081067),\n",
       " (('three', 'witches'), 0.0004943153732081067),\n",
       " (('thy', 'selfe'), 0.0004943153732081067),\n",
       " (('worthy', 'thane'), 0.0004943153732081067),\n",
       " (('would', 'haue'), 0.0004943153732081067),\n",
       " (('borne', 'woman'), 0.0003954522985664854),\n",
       " (('come', 'come'), 0.0003954522985664854),\n",
       " (('enter', 'banquo'), 0.0003954522985664854),\n",
       " (('enter', 'king'), 0.0003954522985664854),\n",
       " (('enter', 'macduffe'), 0.0003954522985664854),\n",
       " (('enter', 'rosse'), 0.0003954522985664854),\n",
       " (('haile', 'king'), 0.0003954522985664854),\n",
       " (('haile', 'macbeth'), 0.0003954522985664854),\n",
       " (('hath', 'made'), 0.0003954522985664854),\n",
       " (('haue', 'seene'), 0.0003954522985664854),\n",
       " (('macb', 'bring'), 0.0003954522985664854),\n",
       " (('macbeth', 'macbeth'), 0.0003954522985664854),\n",
       " (('malcolme', 'donalbaine'), 0.0003954522985664854),\n",
       " (('old', 'man'), 0.0003954522985664854),\n",
       " (('rosse', 'angus'), 0.0003954522985664854),\n",
       " (('scena', 'prima'), 0.0003954522985664854),\n",
       " (('see', 'thee'), 0.0003954522985664854),\n",
       " (('shew', 'shew'), 0.0003954522985664854),\n",
       " (('sir', 'macb'), 0.0003954522985664854),\n",
       " (('ten', 'thousand'), 0.0003954522985664854),\n",
       " (('tertia', 'enter'), 0.0003954522985664854),\n",
       " (('thy', 'face'), 0.0003954522985664854),\n",
       " (('woman', 'borne'), 0.0003954522985664854),\n",
       " (('would', 'make'), 0.0003954522985664854),\n",
       " (('alarums', 'enter'), 0.00029658922392486405)]"
      ]
     },
     "execution_count": 37,
     "metadata": {},
     "output_type": "execute_result"
    }
   ],
   "source": [
    "macbeth_scored[:50]"
   ]
  },
  {
   "cell_type": "markdown",
   "metadata": {},
   "source": [
    "## Pointwise Mutual Information Scores"
   ]
  },
  {
   "cell_type": "code",
   "execution_count": 38,
   "metadata": {},
   "outputs": [],
   "source": [
    "\n",
    "macbeth_pmi_finder = BigramCollocationFinder.from_words(macbeth_words_stopped)"
   ]
  },
  {
   "cell_type": "code",
   "execution_count": 39,
   "metadata": {},
   "outputs": [],
   "source": [
    "#filter out bigrams that show up at least 5 times\n",
    "macbeth_pmi_finder.apply_freq_filter(5)"
   ]
  },
  {
   "cell_type": "code",
   "execution_count": 40,
   "metadata": {},
   "outputs": [],
   "source": [
    "# use the finder to calculate pmi scores. Use .score_ngrams() and pass in bigram_measures.pmi\n",
    "macbeth_pmi_scored = macbeth_pmi_finder.score_ngrams(bigram_measures.pmi)"
   ]
  },
  {
   "cell_type": "code",
   "execution_count": 41,
   "metadata": {},
   "outputs": [
    {
     "data": {
      "text/plain": [
       "[(('three', 'witches'), 8.925697076191916),\n",
       " (('scena', 'secunda'), 8.844777080808349),\n",
       " (('knock', 'knock'), 8.62613679433301),\n",
       " (('thane', 'cawdor'), 7.968474805033251),\n",
       " (('exeunt', 'scena'), 7.844777080808349),\n",
       " (('mine', 'eyes'), 7.46626545755462),\n",
       " (('worthy', 'thane'), 6.982280604558284),\n",
       " (('mine', 'owne'), 6.838234234941577),\n",
       " (('euery', 'one'), 6.626136794333009),\n",
       " (('thou', 'art'), 5.861265203596917),\n",
       " (('enter', 'malcolme'), 5.585847073307292),\n",
       " (('enter', 'three'), 5.585847073307292),\n",
       " (('good', 'lord'), 5.441571341886851),\n",
       " (('let', 'vs'), 5.2009208910336255),\n",
       " (('enter', 'macbeth'), 5.0101623861741444),\n",
       " (('thy', 'selfe'), 4.689498855330438),\n",
       " (('make', 'vs'), 4.596849567364764),\n",
       " (('haue', 'done'), 4.2441883449377915),\n",
       " (('enter', 'lady'), 4.186751117897471),\n",
       " (('lord', 'macb'), 4.128174104483847),\n",
       " (('macb', 'ile'), 3.3988216944275145),\n",
       " (('would', 'haue'), 3.1408106050924847),\n",
       " (('macbeth', 'macb'), 2.836942806819401),\n",
       " (('macb', 'haue'), 2.2754392789222315),\n",
       " (('macb', 'thou'), 2.0851612155237547)]"
      ]
     },
     "execution_count": 41,
     "metadata": {},
     "output_type": "execute_result"
    }
   ],
   "source": [
    "macbeth_pmi_scored"
   ]
  }
 ],
 "metadata": {
  "kernelspec": {
   "display_name": "learn-env",
   "language": "python",
   "name": "learn-env"
  },
  "language_info": {
   "codemirror_mode": {
    "name": "ipython",
    "version": 3
   },
   "file_extension": ".py",
   "mimetype": "text/x-python",
   "name": "python",
   "nbconvert_exporter": "python",
   "pygments_lexer": "ipython3",
   "version": "3.6.9"
  },
  "toc": {
   "base_numbering": 1,
   "nav_menu": {},
   "number_sections": true,
   "sideBar": true,
   "skip_h1_title": false,
   "title_cell": "Table of Contents",
   "title_sidebar": "Contents",
   "toc_cell": false,
   "toc_position": {},
   "toc_section_display": true,
   "toc_window_display": true
  }
 },
 "nbformat": 4,
 "nbformat_minor": 2
}
